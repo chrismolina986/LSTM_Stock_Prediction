{
 "cells": [
  {
   "cell_type": "code",
   "execution_count": 1,
   "id": "51d938a8",
   "metadata": {},
   "outputs": [],
   "source": [
    "import tensorflow as tf\n",
    "import math\n",
    "from tensorflow import keras \n",
    "from tensorflow.keras import Sequential\n",
    "from tensorflow.keras.layers import Dense, LSTM, Dropout\n",
    "from tensorflow.keras.preprocessing.sequence import TimeseriesGenerator\n",
    "from sklearn.metrics import mean_squared_error\n",
    "from sklearn.preprocessing import MinMaxScaler\n",
    "from sklearn.preprocessing import normalize\n",
    "import pandas as pd\n",
    "import numpy as np\n",
    "import matplotlib\n",
    "import matplotlib.dates as mdates\n",
    "import matplotlib.pyplot as plt\n",
    "import datetime\n",
    "from datetime import date\n",
    "import random\n",
    "import string\n",
    "import pandas_datareader as pdr\n",
    "from pandas_datareader import data\n",
    "from matplotlib.pyplot import figure\n",
    "plt.style.use('seaborn-muted')"
   ]
  },
  {
   "cell_type": "code",
   "execution_count": 2,
   "id": "271a8d5f",
   "metadata": {},
   "outputs": [],
   "source": [
    "#Sets variables for day stuff\n",
    "today = date.today()\n",
    "year = today.year\n",
    "month = today.month\n",
    "day = today.day"
   ]
  },
  {
   "cell_type": "code",
   "execution_count": 3,
   "id": "139ddc3b",
   "metadata": {},
   "outputs": [],
   "source": [
    "def getdata(ticker, start = datetime.datetime(year - 1, month, day), end = datetime.datetime(year, month, day)):\n",
    "    output = pdr.get_data_yahoo(ticker,start, end)\n",
    "    dates =[]\n",
    "    for x in range(len(output)):\n",
    "        newdate = str(output.index[x])\n",
    "        newdate = newdate[0:10]\n",
    "        dates.append(newdate)\n",
    "\n",
    "    output['Date'] = dates\n",
    "    dateValue = []\n",
    "    for x in range(len(output)):\n",
    "        dateValue.append(x)\n",
    "    output['Date Value'] = dateValue\n",
    "    return output"
   ]
  },
  {
   "cell_type": "code",
   "execution_count": 23,
   "id": "085b1aed",
   "metadata": {},
   "outputs": [
    {
     "name": "stdout",
     "output_type": "stream",
     "text": [
      "Enter Ticker: spy\n",
      "Enter Start Year (): 2018\n"
     ]
    }
   ],
   "source": [
    "#Asks info for what you want predicted\n",
    "while (True):\n",
    "    ticker = input(\"Enter Ticker: \")\n",
    "    ticker = ticker.upper()\n",
    "    start = input('Enter Start Year (): ')\n",
    "    start = int(start)\n",
    "    #Error Exceptions if you gave a bad ticker/year\n",
    "    try:\n",
    "        dataframe = getdata(ticker, start = datetime.datetime(start,1,1))\n",
    "        dataframe\n",
    "        break\n",
    "    except (OverflowError, ValueError):\n",
    "        print(\"The year you gave us was prior the ticker's history please try another one\")\n",
    "    except:\n",
    "        print(\"The Ticker you gave us doesn't exist please try another one.\")"
   ]
  },
  {
   "cell_type": "code",
   "execution_count": 24,
   "id": "b3293a61",
   "metadata": {},
   "outputs": [],
   "source": [
    "#Setting up the look_back at 15 and using the High values for each day for my data\n",
    "look_back = 15\n",
    "\n",
    "data = dataframe[\"High\"]\n",
    "dataset = data.values\n",
    "dataset = dataset.astype('float32')\n",
    "dataset = dataset.reshape(-1, 1)\n",
    "\n",
    "dates = dataframe['Date']\n",
    "date = dates.values"
   ]
  },
  {
   "cell_type": "code",
   "execution_count": 25,
   "id": "d498004c",
   "metadata": {},
   "outputs": [],
   "source": [
    "# convert an array of values into a dataset matrix\n",
    "def create_dataset(dataset, look_back = 1):\n",
    "    dataX, dataY = [], []\n",
    "    for i in range(len(dataset) - look_back - 1):\n",
    "        a = dataset[i:(i + look_back), 0]\n",
    "        dataX.append(a)\n",
    "        dataY.append(dataset[i + look_back, 0])\n",
    "    return np.array(dataX), np.array(dataY)"
   ]
  },
  {
   "cell_type": "code",
   "execution_count": 26,
   "id": "6bd1b82c",
   "metadata": {},
   "outputs": [],
   "source": [
    "# fix random seed for reproducibility\n",
    "np.random.seed(7)"
   ]
  },
  {
   "cell_type": "code",
   "execution_count": 27,
   "id": "f129ee39",
   "metadata": {},
   "outputs": [],
   "source": [
    "scaler = MinMaxScaler(feature_range=(0, 1))\n",
    "dataset = scaler.fit_transform(dataset)"
   ]
  },
  {
   "cell_type": "code",
   "execution_count": 28,
   "id": "d900b088",
   "metadata": {},
   "outputs": [],
   "source": [
    "#using the first 80% of datapoints for training\n",
    "split_percent = .8\n",
    "split = int(split_percent*len(dataset))"
   ]
  },
  {
   "cell_type": "code",
   "execution_count": 29,
   "id": "5d79880a",
   "metadata": {},
   "outputs": [],
   "source": [
    "#Making the train and test datasets with their corresponding dates\n",
    "train = dataset[:split]\n",
    "trainDate = date[:split]\n",
    "  \n",
    "test = dataset[split:]\n",
    "testDate = date[split:]"
   ]
  },
  {
   "cell_type": "code",
   "execution_count": 32,
   "id": "05934bd8",
   "metadata": {},
   "outputs": [],
   "source": [
    "xtrain, ytrain = create_dataset(train, look_back)\n",
    "xtest, ytest = create_dataset(test, look_back)\n",
    "xtrain = np.reshape(xtrain, (xtrain.shape[0], 1, xtrain.shape[1]))\n",
    "xtest = np.reshape(xtest, (xtest.shape[0], 1, xtest.shape[1]))"
   ]
  },
  {
   "cell_type": "code",
   "execution_count": 33,
   "id": "d58cd936",
   "metadata": {},
   "outputs": [
    {
     "name": "stdout",
     "output_type": "stream",
     "text": [
      "Epoch 1/10\n",
      "783/783 - 1s - loss: 0.0049\n",
      "Epoch 2/10\n",
      "783/783 - 0s - loss: 0.0012\n",
      "Epoch 3/10\n",
      "783/783 - 0s - loss: 8.6152e-04\n",
      "Epoch 4/10\n",
      "783/783 - 0s - loss: 5.7838e-04\n",
      "Epoch 5/10\n",
      "783/783 - 0s - loss: 4.7094e-04\n",
      "Epoch 6/10\n",
      "783/783 - 0s - loss: 3.7817e-04\n",
      "Epoch 7/10\n",
      "783/783 - 0s - loss: 3.7151e-04\n",
      "Epoch 8/10\n",
      "783/783 - 0s - loss: 3.5943e-04\n",
      "Epoch 9/10\n",
      "783/783 - 0s - loss: 3.4214e-04\n",
      "Epoch 10/10\n",
      "783/783 - 1s - loss: 3.0771e-04\n"
     ]
    },
    {
     "data": {
      "text/plain": [
       "<tensorflow.python.keras.callbacks.History at 0x1898a253580>"
      ]
     },
     "execution_count": 33,
     "metadata": {},
     "output_type": "execute_result"
    }
   ],
   "source": [
    "model = Sequential()\n",
    "model.add(LSTM(10, input_shape=(1, look_back)))\n",
    "model.add(Dense(1))\n",
    "model.compile(loss='mean_squared_error', optimizer='adam')\n",
    "model.fit(xtrain, ytrain, epochs=10, batch_size=1, verbose=2)"
   ]
  },
  {
   "cell_type": "code",
   "execution_count": 34,
   "id": "1413751f",
   "metadata": {},
   "outputs": [],
   "source": [
    "trainPredict = model.predict(xtrain)\n",
    "testPredict = model.predict(xtest)"
   ]
  },
  {
   "cell_type": "code",
   "execution_count": 35,
   "id": "b1f3c680",
   "metadata": {},
   "outputs": [],
   "source": [
    "trainPredict = scaler.inverse_transform(trainPredict)\n",
    "ytrain = scaler.inverse_transform([ytrain])\n",
    "testPredict = scaler.inverse_transform(testPredict)\n",
    "ytest = scaler.inverse_transform([ytest])"
   ]
  },
  {
   "cell_type": "code",
   "execution_count": 36,
   "id": "8681b050",
   "metadata": {},
   "outputs": [
    {
     "name": "stdout",
     "output_type": "stream",
     "text": [
      "Train Score: 5.67 RMSE\n",
      "Test Score: 11.33 RMSE\n"
     ]
    }
   ],
   "source": [
    "# calculate root mean squared error\n",
    "trainScore = math.sqrt(mean_squared_error(ytrain[0], trainPredict[:,0]))\n",
    "print('Train Score: %.2f RMSE' % (trainScore))\n",
    "testScore = math.sqrt(mean_squared_error(ytest[0], testPredict[:,0]))\n",
    "print('Test Score: %.2f RMSE' % (testScore))"
   ]
  },
  {
   "cell_type": "code",
   "execution_count": 37,
   "id": "71042467",
   "metadata": {},
   "outputs": [],
   "source": [
    "trainPredictPlot = np.empty_like(dataset)\n",
    "trainPredictPlot[:, :] = np.nan\n",
    "trainPredictPlot[look_back:len(trainPredict)+look_back, :] = trainPredict"
   ]
  },
  {
   "cell_type": "code",
   "execution_count": 38,
   "id": "ba004fce",
   "metadata": {},
   "outputs": [],
   "source": [
    "testPredictPlot = np.empty_like(dataset)\n",
    "testPredictPlot[:, :] = np.nan\n",
    "testPredictPlot[len(trainPredict)+(look_back*2)+1:len(dataset)-1, :] = testPredict"
   ]
  },
  {
   "cell_type": "code",
   "execution_count": 39,
   "id": "edbb34f9",
   "metadata": {},
   "outputs": [],
   "source": [
    "#setting up the xaxis labels\n",
    "datapoints = dataframe.shape[0]\n",
    "avgYrLen = 275\n",
    "x = 275\n",
    "xticks = [0]\n",
    "years = [start]\n",
    "yr = start + 1\n",
    "while datapoints > 0:\n",
    "    xticks.append(x)\n",
    "    x = x + avgYrLen\n",
    "    years.append(yr)\n",
    "    yr = yr + 1\n",
    "    datapoints = datapoints - avgYrLen"
   ]
  },
  {
   "cell_type": "code",
   "execution_count": 40,
   "id": "a6083617",
   "metadata": {},
   "outputs": [
    {
     "data": {
      "image/png": "[encoded data removed]",
      "text/plain": [
       "<Figure size 800x400 with 1 Axes>"
      ]
     },
     "metadata": {
      "needs_background": "light"
     },
     "output_type": "display_data"
    }
   ],
   "source": [
    "figure(figsize=(8, 4), dpi=100)\n",
    "plt.plot(scaler.inverse_transform(dataset), label = 'Original Stock Values')\n",
    "plt.plot(trainPredictPlot, label = 'Train')\n",
    "plt.plot(testPredictPlot, label = 'Test')\n",
    "# Set text labels and properties.\n",
    "plt.xticks(xticks, years,\n",
    "           rotation=30)  \n",
    "plt.legend(loc = 'upper left')\n",
    "plt.show()"
   ]
  },
  {
   "cell_type": "code",
   "execution_count": null,
   "id": "0a4c9df2",
   "metadata": {},
   "outputs": [],
   "source": []
  }
 ],
 "metadata": {
  "kernelspec": {
   "display_name": "Python 3",
   "language": "python",
   "name": "python3"
  },
  "language_info": {
   "codemirror_mode": {
    "name": "ipython",
    "version": 3
   },
   "file_extension": ".py",
   "mimetype": "text/x-python",
   "name": "python",
   "nbconvert_exporter": "python",
   "pygments_lexer": "ipython3",
   "version": "3.8.8"
  }
 },
 "nbformat": 4,
 "nbformat_minor": 5
}
